{
 "cells": [
  {
   "cell_type": "code",
   "execution_count": 2,
   "metadata": {},
   "outputs": [],
   "source": [
    "import datetime as dt\n",
    "import matplotlib.pyplot as plt\n",
    "import pandas as pd\n",
    "import datetime\n",
    "pd.core.common.is_list_like = pd.api.types.is_list_like\n",
    "import pandas_datareader.data as web\n",
    "\n",
    "\n",
    "from matplotlib import style"
   ]
  },
  {
   "cell_type": "code",
   "execution_count": 7,
   "metadata": {},
   "outputs": [
    {
     "name": "stdout",
     "output_type": "stream",
     "text": [
      "             Close    High       Low    Open   Volume\n",
      "Date                                                 \n",
      "2015-01-01  222.41  222.41  222.4100  222.41        0\n",
      "2015-01-02  219.31  223.25  213.2600  222.63  4764443\n",
      "2015-01-05  210.09  216.50  207.1626  214.50  5368477\n",
      "2015-01-06  211.28  214.20  204.2100  210.06  6261936\n",
      "2015-01-07  210.95  214.78  209.7800  213.40  2968390\n"
     ]
    }
   ],
   "source": [
    "start = dt.datetime(2015,1,1)\n",
    "end = dt.datetime.now()\n",
    "df = web.DataReader(\"TSLA\", 'morningstar', start, end)\n",
    "df.reset_index(inplace=True)\n",
    "df.set_index(\"Date\", inplace=True)\n",
    "df = df.drop(\"Symbol\", axis=1)\n",
    "\n",
    "print(df.head())"
   ]
  }
 ],
 "metadata": {
  "kernelspec": {
   "display_name": "Python 3",
   "language": "python",
   "name": "python3"
  },
  "language_info": {
   "codemirror_mode": {
    "name": "ipython",
    "version": 3
   },
   "file_extension": ".py",
   "mimetype": "text/x-python",
   "name": "python",
   "nbconvert_exporter": "python",
   "pygments_lexer": "ipython3",
   "version": "3.6.5"
  }
 },
 "nbformat": 4,
 "nbformat_minor": 2
}
